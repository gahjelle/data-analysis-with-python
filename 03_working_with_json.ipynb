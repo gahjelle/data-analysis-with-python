{
 "cells": [
  {
   "cell_type": "markdown",
   "metadata": {},
   "source": [
    "# Working with JSON\n",
    "\n",
    "[JSON](http://www.json.org/) (_JavaScript Object Notation_) is a popular data-interchange format. It is well-suited for structured data that is a mix between numbers and strings. The JSON format is supported by the `json` standard library in Python (that `json` is a _standard_ library means that it is always available).\n",
    "\n",
    "To read a JSON-file with Python, we\n",
    "+ import the `json`-library,\n",
    "+ open the JSON-file with the built-in `open`-function,\n",
    "+ read the file(handle) with the `json.load`-function."
   ]
  },
  {
   "cell_type": "code",
   "execution_count": null,
   "metadata": {
    "scrolled": true
   },
   "outputs": [],
   "source": [
    "import json\n",
    "\n",
    "with open('data/pop_growth.json', mode='r') as fid:\n",
    "    population = json.load(fid)\n",
    "\n",
    "population"
   ]
  },
  {
   "cell_type": "markdown",
   "metadata": {},
   "source": [
    "The data file above is download from [Statistics Norway](http://www.ssb.no/), and contains information about the population and the population growth in Norway. It is the dataset [Population change, Whole country, latest quarter](http://data.ssb.no/api/v0/dataset/1104.json?lang=en) found among the [Ready-made datasets](http://data.ssb.no/api/v0/dataset/?lang=en)."
   ]
  },
  {
   "cell_type": "markdown",
   "metadata": {},
   "source": [
    "## Lists and dictionaries\n",
    "\n",
    "Two of the basic, but very powerful, data structures in Python are _lists_ (`list`) and _dictionaries_ (`dict`). These are also the main building blocks of the JSON format (although in JSON they are called _arrays_ and _objects_).\n",
    "\n",
    "A `list` is an ordered sequence of elements. These elements can be of different types, and can even be new lists. A `dict` is an unordered collection of key-value-pairs, a value can be anything (even a new `dict`) while there are some restrictions on what can be a key (most often strings are used)."
   ]
  },
  {
   "cell_type": "code",
   "execution_count": null,
   "metadata": {},
   "outputs": [],
   "source": [
    "# list of cities\n",
    "cities = ['Wien', 'Oslo', 'London', 'Barcelona']\n",
    "for city in cities:\n",
    "    print(city)"
   ]
  },
  {
   "cell_type": "code",
   "execution_count": null,
   "metadata": {},
   "outputs": [],
   "source": [
    "# dict of countries with their capitals\n",
    "capitals = {'Austria': 'Wien', 'Norway': 'Oslo', 'Portugal': 'Lisboa', 'Finland': 'Helsinki'}\n",
    "for country, capital in capitals.items():\n",
    "    print(country, capital)"
   ]
  },
  {
   "cell_type": "markdown",
   "metadata": {},
   "source": [
    "## Indexing\n",
    "\n",
    "To pick out one element from a list or dictionary we use _indexing_. This is denoted by square brackets. For lists we need to use a numerical index, the element number counting from 0:"
   ]
  },
  {
   "cell_type": "code",
   "execution_count": null,
   "metadata": {},
   "outputs": [],
   "source": [
    "cities[0]"
   ]
  },
  {
   "cell_type": "code",
   "execution_count": null,
   "metadata": {},
   "outputs": [],
   "source": [
    "cities[2]"
   ]
  },
  {
   "cell_type": "markdown",
   "metadata": {},
   "source": [
    "For dictionaries the indexing is done by the keys. In our example above we only used string-keys, namely the names of countries."
   ]
  },
  {
   "cell_type": "code",
   "execution_count": null,
   "metadata": {},
   "outputs": [],
   "source": [
    "capitals['Norway']"
   ]
  },
  {
   "cell_type": "markdown",
   "metadata": {},
   "source": [
    "For numerical indices we can also use _slicing_ to pick out several elements at once (getting a sub-list from a list). In slicing we give both a start- and an end-index separated by colon. The start-index is inclusive, while the end-index is non-inclusive."
   ]
  },
  {
   "cell_type": "code",
   "execution_count": null,
   "metadata": {},
   "outputs": [],
   "source": [
    "cities[0:2]      # Includes the elements 0 and 1, but not 2"
   ]
  },
  {
   "cell_type": "markdown",
   "metadata": {},
   "source": [
    "Any of these numbers can be omitted. If the start-index is omitted it defaults to 0, while if the end-index is omitted all elements at the end of the sequence are included."
   ]
  },
  {
   "cell_type": "code",
   "execution_count": null,
   "metadata": {},
   "outputs": [],
   "source": [
    "cities[:2]"
   ]
  },
  {
   "cell_type": "code",
   "execution_count": null,
   "metadata": {},
   "outputs": [],
   "source": [
    "cities[1:]"
   ]
  },
  {
   "cell_type": "markdown",
   "metadata": {},
   "source": [
    "It is also possible to specify a third number, which will be the stride. For instance `[::2]` will pick out every second element of a list."
   ]
  },
  {
   "cell_type": "code",
   "execution_count": null,
   "metadata": {},
   "outputs": [],
   "source": [
    "cities[::2]"
   ]
  },
  {
   "cell_type": "markdown",
   "metadata": {},
   "source": [
    "## Back to the population example\n",
    "\n",
    "Now that we know a little more about how to deal with lists and dictionaries, let us try to make sense of the population data we loaded earlier. Recall,"
   ]
  },
  {
   "cell_type": "code",
   "execution_count": null,
   "metadata": {
    "scrolled": true
   },
   "outputs": [],
   "source": [
    "population"
   ]
  },
  {
   "cell_type": "markdown",
   "metadata": {},
   "source": [
    "First we might notice that the data are quite heavily nested. (The data are in a special form of JSON called JSON-stat, version 1.2.) Everything is in the sub-dictionary `dataset`. Let us look inside `dataset`. `.keys()` shows the keys of dictionary."
   ]
  },
  {
   "cell_type": "code",
   "execution_count": null,
   "metadata": {},
   "outputs": [],
   "source": [
    "population['dataset'].keys()"
   ]
  },
  {
   "cell_type": "markdown",
   "metadata": {},
   "source": [
    "The `dataset` dictionary has 5 keys. Of these, `label`, `source` and `updated` are simple text strings, and not so interesting to us. The item `value` contains the actual data in the dataset. Let us store those in a new variable:"
   ]
  },
  {
   "cell_type": "code",
   "execution_count": null,
   "metadata": {},
   "outputs": [],
   "source": [
    "values = population['dataset']['value']\n",
    "values"
   ]
  },
  {
   "cell_type": "markdown",
   "metadata": {},
   "source": [
    "The `dimension` item contains information describing the data. For instance, deeply nested inside `dimension` we find `index` which tells us which index inside the list of `values` that contains which data. We also see `label` that gives a somewhat more explanatory description of each value. "
   ]
  },
  {
   "cell_type": "code",
   "execution_count": null,
   "metadata": {
    "scrolled": true
   },
   "outputs": [],
   "source": [
    "index = population['dataset']['dimension']['ContentsCode']['category']['index']\n",
    "label = population['dataset']['dimension']['ContentsCode']['category']['label']\n",
    "index, label"
   ]
  },
  {
   "cell_type": "markdown",
   "metadata": {},
   "source": [
    "We can use the `index` to connect the `label` and the `values` together. An effective way to do this is to use a _dict comprehension_. In Python _list comprehensions_, _dict comprehensions_, _set comprehensions_ and _generator expressions_ are used to turn an _iterable_ (e.g. list, dictionary, set, tuple) into another. We'll look at these in more detail later."
   ]
  },
  {
   "cell_type": "code",
   "execution_count": null,
   "metadata": {},
   "outputs": [],
   "source": [
    "{label[k]: values[v] for k, v in index.items()}"
   ]
  }
 ],
 "metadata": {
  "kernelspec": {
   "display_name": "Python [conda root]",
   "language": "python",
   "name": "conda-root-py"
  },
  "language_info": {
   "codemirror_mode": {
    "name": "ipython",
    "version": 3
   },
   "file_extension": ".py",
   "mimetype": "text/x-python",
   "name": "python",
   "nbconvert_exporter": "python",
   "pygments_lexer": "ipython3",
   "version": "3.6.2"
  }
 },
 "nbformat": 4,
 "nbformat_minor": 2
}
