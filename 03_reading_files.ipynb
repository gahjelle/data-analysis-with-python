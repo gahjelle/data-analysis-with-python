{
 "cells": [
  {
   "cell_type": "markdown",
   "metadata": {},
   "source": [
    "# Reading files"
   ]
  },
  {
   "cell_type": "markdown",
   "metadata": {},
   "source": [
    "Standard Python has a quite powerful mechanism for reading files. To open a file you can use the built-in `open`-function as follows:\n",
    "\n",
    "    with open('filename.txt', mode='r') as fid:\n",
    "        ...\n",
    "        \n",
    "\n",
    "This will open the file names `filename.txt` for reading (`mode='r'`). A handle of the file will be stored in the `fid`-variable. The `with`-construct is strictly speaking not necessary, but highly recommended. Using `with` handles closing of the file for us in a proper manner, for instance making sure the file is closed even if some exception occurs during reading."
   ]
  },
  {
   "cell_type": "markdown",
   "metadata": {},
   "source": [
    "## Reading lines one at a time"
   ]
  },
  {
   "cell_type": "markdown",
   "metadata": {},
   "source": [
    "The following is a concrete example of how to open a file and do some simple operation on it. In this case we only print headlines from the `README.md` file."
   ]
  },
  {
   "cell_type": "code",
   "execution_count": null,
   "metadata": {
    "collapsed": false
   },
   "outputs": [],
   "source": [
    "with open('README.md', mode='r') as fid:\n",
    "    for line in fid:\n",
    "        if line.startswith('#'):\n",
    "            print(line.lstrip('#').strip())"
   ]
  },
  {
   "cell_type": "markdown",
   "metadata": {},
   "source": [
    "The file handle (stored in `fid`) can be iterated over. The `for`-loop returns the lines of the file one at a time. The `README.md`-file is in the Markdown-format where headlines are marked with the hash-symbol (`#`). To find the headlines we therefore test if a given line starts with `#`, and if it does we print it out. Finally, when printing we strip off the hash-symbols (`lstrip('#')` removes `#` on the `l`eft side of the string) and whitespace (`strip()` without arguments removes whitespace like spaces, tabs and newlines on both sides of the given string)."
   ]
  },
  {
   "cell_type": "markdown",
   "metadata": {},
   "source": [
    "## Reading the whole file at once"
   ]
  },
  {
   "cell_type": "markdown",
   "metadata": {},
   "source": [
    "It is also easy to read in the whole file at once, postponing any processing until later. The following example eventually does the same as the one above, although using a somewhat different technique."
   ]
  },
  {
   "cell_type": "code",
   "execution_count": null,
   "metadata": {
    "collapsed": false
   },
   "outputs": [],
   "source": [
    "with open('README.md', mode='r') as fid:\n",
    "    lines = fid.readlines()\n",
    "\n",
    "headlines = [line.lstrip('#').strip()\n",
    "             for line in lines\n",
    "             if line.startswith('#')]\n",
    "print('\\n'.join(headlines))"
   ]
  },
  {
   "cell_type": "markdown",
   "metadata": {},
   "source": [
    "The `readlines()`-method reads all lines from the file and stores them in a list that we process later. Note that the `with`-context ends after `readlines()` is called. This means that the file is closed at this moment. To confirm that the whole file is read, we can inspect the `lines`-list."
   ]
  },
  {
   "cell_type": "code",
   "execution_count": null,
   "metadata": {
    "collapsed": false
   },
   "outputs": [],
   "source": [
    "lines"
   ]
  },
  {
   "cell_type": "markdown",
   "metadata": {},
   "source": [
    "To find the `headlines` we filter `lines` using a _list comprehension_. A list comprehension typically takes a list and creates another list. It consists of three parts. The middle part, `for line in lines`, looks like a regular `for`-loop. The first part describes each element in the new list. In this case we strip off hash-symbols and whitespace as in the previous example. The third part, `if line.startswith('#')` is optional, but can be used to filter which elements of the list to keep. In this case we keep the lines that starts with the hash-symbol.\n",
    "\n",
    "`headlines` is now a list of strings (see below). To print out the headlines, one on each line, we join the list of strings using a newline (`\\n`) between each string."
   ]
  },
  {
   "cell_type": "code",
   "execution_count": null,
   "metadata": {
    "collapsed": false
   },
   "outputs": [],
   "source": [
    "headlines"
   ]
  },
  {
   "cell_type": "markdown",
   "metadata": {},
   "source": [
    "## Loops"
   ]
  },
  {
   "cell_type": "markdown",
   "metadata": {},
   "source": [
    "There are two types of loops in Python. `while`-loops repeat as long as some condition is true, and takes the form\n",
    "\n",
    "    while <condition>:\n",
    "        ...\n",
    "\n",
    "This is useful when some code needs to be repeated, but you don't know beforehand how many times. For instance, the following example prints all "
   ]
  },
  {
   "cell_type": "code",
   "execution_count": null,
   "metadata": {
    "collapsed": true
   },
   "outputs": [],
   "source": []
  }
 ],
 "metadata": {
  "kernelspec": {
   "display_name": "Python [conda root]",
   "language": "python",
   "name": "conda-root-py"
  },
  "language_info": {
   "codemirror_mode": {
    "name": "ipython",
    "version": 3
   },
   "file_extension": ".py",
   "mimetype": "text/x-python",
   "name": "python",
   "nbconvert_exporter": "python",
   "pygments_lexer": "ipython3",
   "version": "3.5.3"
  }
 },
 "nbformat": 4,
 "nbformat_minor": 2
}
