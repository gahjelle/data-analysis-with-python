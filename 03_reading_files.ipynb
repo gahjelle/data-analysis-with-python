{
 "cells": [
  {
   "cell_type": "markdown",
   "metadata": {},
   "source": [
    "# Reading files"
   ]
  },
  {
   "cell_type": "markdown",
   "metadata": {},
   "source": [
    "Standard Python has a quite powerful mechanism for reading files. To open a file you can use the built-in `open`-function as follows:\n",
    "\n",
    "    with open('filename.txt', mode='r') as fid:\n",
    "        ...\n",
    "        \n",
    "\n",
    "This will open the file names `filename.txt` for reading (`mode='r'`). A handle of the file will be stored in the `fid`-variable. The `with`-construct is strictly speaking not necessary, but highly recommended. Using `with` handles closing of the file for us in a proper manner, for instance making sure the file is closed even if some exception occurs during reading."
   ]
  },
  {
   "cell_type": "markdown",
   "metadata": {},
   "source": [
    "## Reading lines one at a time"
   ]
  },
  {
   "cell_type": "markdown",
   "metadata": {},
   "source": [
    "The following is a concrete example of how to open a file and do some simple operation on it. In this case we only print headlines from the `README.md` file."
   ]
  },
  {
   "cell_type": "code",
   "execution_count": 1,
   "metadata": {},
   "outputs": [
    {
     "name": "stdout",
     "output_type": "stream",
     "text": [
      "EGU 2017: Data analysis with Python and Jupyter\n",
      "Preparation\n",
      "Material\n",
      "Downloading the material\n",
      "License\n"
     ]
    }
   ],
   "source": [
    "with open('README.md', mode='r') as fid:\n",
    "    for line in fid:\n",
    "        if line.startswith('#'):\n",
    "            print(line.lstrip('#').strip())"
   ]
  },
  {
   "cell_type": "markdown",
   "metadata": {},
   "source": [
    "The file handle (stored in `fid`) can be iterated over. The `for`-loop returns the lines of the file one at a time. The `README.md`-file is in the Markdown-format where headlines are marked with the hash-symbol (`#`). To find the headlines we therefore test if a given line starts with `#`, and if it does we print it out. Finally, when printing we strip off the hash-symbols (`lstrip('#')` removes `#` on the `l`eft side of the string) and whitespace (`strip()` without arguments removes whitespace like spaces, tabs and newlines on both sides of the given string)."
   ]
  },
  {
   "cell_type": "markdown",
   "metadata": {},
   "source": [
    "## Reading the whole file at once"
   ]
  },
  {
   "cell_type": "markdown",
   "metadata": {},
   "source": [
    "It is also easy to read in the whole file at once, postponing any processing until later. The following example eventually does the same as the one above, although using a somewhat different technique."
   ]
  },
  {
   "cell_type": "code",
   "execution_count": 2,
   "metadata": {},
   "outputs": [
    {
     "name": "stdout",
     "output_type": "stream",
     "text": [
      "EGU 2017: Data analysis with Python and Jupyter\n",
      "Preparation\n",
      "Material\n",
      "Downloading the material\n",
      "License\n"
     ]
    }
   ],
   "source": [
    "with open('README.md', mode='r') as fid:\n",
    "    lines = fid.readlines()\n",
    "\n",
    "headlines = [line.lstrip('#').strip()\n",
    "             for line in lines\n",
    "             if line.startswith('#')]\n",
    "print('\\n'.join(headlines))"
   ]
  },
  {
   "cell_type": "markdown",
   "metadata": {},
   "source": [
    "The `readlines()`-method reads all lines from the file and stores them in a list that we process later. Note that the `with`-context ends after `readlines()` is called. This means that the file is closed at this moment. To confirm that the whole file is read, we can inspect the `lines`-list."
   ]
  },
  {
   "cell_type": "code",
   "execution_count": 3,
   "metadata": {},
   "outputs": [
    {
     "data": {
      "text/plain": [
       "['# EGU 2017: Data analysis with Python and Jupyter\\n',\n",
       " '\\n',\n",
       " 'During the [EGU 2017](http://egu2017.eu) we presented a short course introducing\\n',\n",
       " 'how to do data science with Python and Jupyter. This is the material used in the\\n',\n",
       " 'course. The course itself was 90 minutes. However, there is a bit more material\\n',\n",
       " 'that can also be used for self-study and for finding references that go more\\n',\n",
       " 'in-depth.\\n',\n",
       " '\\n',\n",
       " '## Preparation\\n',\n",
       " '\\n',\n",
       " '[Install Anaconda](https://www.continuum.io/downloads), Python 3.x\\n',\n",
       " 'version. Anaconda is an open data science platform which includes Python and\\n',\n",
       " 'most packages necessary for doing data science. Anaconda can be installed even\\n',\n",
       " 'without root/administrator privileges.\\n',\n",
       " '\\n',\n",
       " '## Material\\n',\n",
       " '\\n',\n",
       " 'The course is made available as a series of Jupyter Notebooks. The notebooks can\\n',\n",
       " 'be read directly here at Github, but you will have a better, more interactive\\n',\n",
       " 'experience by downloading them and running the locally. How to do this is\\n',\n",
       " 'explained [below](#downloading-the-material).\\n',\n",
       " '\\n',\n",
       " 'This short course is not a course in Python, the programming language. Instead\\n',\n",
       " 'we aim to show you how Python has become a full-blown platform for doing data\\n',\n",
       " 'science.\\n',\n",
       " '\\n',\n",
       " 'The following short lessons are available:\\n',\n",
       " '\\n',\n",
       " '+ [Anaconda](01_anaconda.ipynb)\\n',\n",
       " '+ [Jupyter Notebooks](02_jupyter_notebooks.ipynb)\\n',\n",
       " '+ [Reading files](03_reading_files.ipynb)\\n',\n",
       " '+ [Working with JSON-data](04_working_with_json.ipynb)\\n',\n",
       " '+ [Numerical data in numpy](05_numerical_data_in_numpy.ipynb)\\n',\n",
       " '+ [Pandas and time series](06_pandas_and_time_series.ipynb)\\n',\n",
       " '+ [Plotting data](07_plotting_data.ipynb)\\n',\n",
       " '+ [Storing data](08_storing_data.ipynb)\\n',\n",
       " '+ [Distributing Jupyter notebooks](09_distributing_jupyter_notebooks.ipynb)\\n',\n",
       " '+ [Further resources](10_further_resources.ipynb)\\n',\n",
       " '\\n',\n",
       " '## Downloading the material\\n',\n",
       " '\\n',\n",
       " 'The notebooks can be downloaded from this github-page, by scrolling to the top,\\n',\n",
       " 'click the green `Clone or download`-button and then clicking the `Download ZIP`\\n',\n",
       " 'link.\\n',\n",
       " '\\n',\n",
       " 'After downloading the zip-file, unpack it on your computer. Then open a terminal\\n',\n",
       " '(on Windows you should open a Anaconda terminal) and type\\n',\n",
       " '\\n',\n",
       " '    jupyter notebook\\n',\n",
       " ' \\n',\n",
       " 'This will start a local webserver, so the terminal will print some messages to\\n',\n",
       " 'that effect. You do not need to worry about these message. Furthermore, your\\n',\n",
       " 'default web browser will open up with a new window showing a file browser. You\\n',\n",
       " 'can then navigate to the folder you just downloaded, and click on any of the\\n',\n",
       " 'files to see the content.\\n',\n",
       " '\\n',\n",
       " '## License\\n',\n",
       " '\\n',\n",
       " '[![Creative Commons License](https://i.creativecommons.org/l/by-sa/4.0/80x15.png)](http://creativecommons.org/licenses/by-sa/4.0/)\\n',\n",
       " 'This work is licensed under a\\n',\n",
       " '[Creative Commons Attribution-ShareAlike 4.0 International License](http://creativecommons.org/licenses/by-sa/4.0/).\\n',\n",
       " '\\n',\n",
       " 'If you want to reuse this material, feel free to [fork](#fork-destination-box) it. If you find any\\n',\n",
       " 'errors or have suggestions for improvements raising an [issue](../../issues/) or sending a\\n',\n",
       " '[pull request](../../pulls/) would be very welcome. Thank you for your interest.\\n']"
      ]
     },
     "execution_count": 3,
     "metadata": {},
     "output_type": "execute_result"
    }
   ],
   "source": [
    "lines"
   ]
  },
  {
   "cell_type": "markdown",
   "metadata": {},
   "source": [
    "To find the `headlines` we filter `lines` using a _list comprehension_. A list comprehension typically takes a list and creates another list. It consists of three parts. The middle part, `for line in lines`, looks like a regular `for`-loop. The first part describes each element in the new list. In this case we strip off hash-symbols and whitespace as in the previous example. The third part, `if line.startswith('#')` is optional, but can be used to filter which elements of the list to keep. In this case we keep the lines that starts with the hash-symbol.\n",
    "\n",
    "`headlines` is now a list of strings (see below). To print out the headlines, one on each line, we join the list of strings using a newline (`\\n`) between each string."
   ]
  },
  {
   "cell_type": "code",
   "execution_count": 4,
   "metadata": {},
   "outputs": [
    {
     "data": {
      "text/plain": [
       "['EGU 2017: Data analysis with Python and Jupyter',\n",
       " 'Preparation',\n",
       " 'Material',\n",
       " 'Downloading the material',\n",
       " 'License']"
      ]
     },
     "execution_count": 4,
     "metadata": {},
     "output_type": "execute_result"
    }
   ],
   "source": [
    "headlines"
   ]
  },
  {
   "cell_type": "markdown",
   "metadata": {},
   "source": [
    "## Loops"
   ]
  },
  {
   "cell_type": "markdown",
   "metadata": {},
   "source": [
    "There are two types of loops in Python. `while`-loops repeat as long as some condition is true, and takes the form\n",
    "\n",
    "    while <condition>:\n",
    "        ...\n",
    "\n",
    "This is useful when some code needs to be repeated, but you don't know beforehand how many times. For instance, the following example prints all "
   ]
  },
  {
   "cell_type": "code",
   "execution_count": null,
   "metadata": {
    "collapsed": true
   },
   "outputs": [],
   "source": []
  }
 ],
 "metadata": {
  "kernelspec": {
   "display_name": "Python [conda root]",
   "language": "python",
   "name": "conda-root-py"
  },
  "language_info": {
   "codemirror_mode": {
    "name": "ipython",
    "version": 3
   },
   "file_extension": ".py",
   "mimetype": "text/x-python",
   "name": "python",
   "nbconvert_exporter": "python",
   "pygments_lexer": "ipython3",
   "version": "3.6.2"
  }
 },
 "nbformat": 4,
 "nbformat_minor": 2
}
