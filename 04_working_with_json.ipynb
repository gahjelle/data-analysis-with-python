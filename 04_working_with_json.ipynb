{
 "cells": [
  {
   "cell_type": "markdown",
   "metadata": {},
   "source": [
    "# Working with JSON"
   ]
  },
  {
   "cell_type": "markdown",
   "metadata": {},
   "source": [
    "[JSON](http://www.json.org/) (JavaScript Object Notation) is a popular data-interchange format. It is well-suited for structured data that is a mix between numbers and strings. The JSON format is supported by the `json` standard library in Python (that `json` is a _standard_ library means that it is always available).\n",
    "\n",
    "To read a JSON-file with Python, we\n",
    "+ import the `json`-library,\n",
    "+ open the JSON-file with the built-in `open`-function,\n",
    "+ read the file(handle) with the `json.load`-function."
   ]
  },
  {
   "cell_type": "code",
   "execution_count": 1,
   "metadata": {},
   "outputs": [
    {
     "data": {
      "text/plain": [
       "{'glossary': {'GlossDiv': {'GlossList': {'GlossEntry': {'Abbrev': 'ISO 8879:1986',\n",
       "     'Acronym': 'SGML',\n",
       "     'GlossDef': {'GlossSeeAlso': ['GML', 'XML'],\n",
       "      'para': 'A meta-markup language, used to create markup languages such as DocBook.'},\n",
       "     'GlossSee': 'markup',\n",
       "     'GlossTerm': 'Standard Generalized Markup Language',\n",
       "     'ID': 'SGML',\n",
       "     'SortAs': 'SGML'}},\n",
       "   'title': 'S'},\n",
       "  'title': 'example glossary'}}"
      ]
     },
     "execution_count": 1,
     "metadata": {},
     "output_type": "execute_result"
    }
   ],
   "source": [
    "import json\n",
    "\n",
    "with open('data/glossary.json', mode='r') as fid:\n",
    "    glossary = json.load(fid)\n",
    "\n",
    "glossary"
   ]
  },
  {
   "cell_type": "markdown",
   "metadata": {},
   "source": [
    "## Lists and dictionaries"
   ]
  },
  {
   "cell_type": "markdown",
   "metadata": {},
   "source": [
    "Two of the basic, but very powerful, data structures in Python are _lists_ (`list`) and _dictionaries_ (`dict`). These are also the main building blocks of the JSON format (although in JSON they are called _arrays_ and _objects_).\n",
    "\n",
    "A `list` is an ordered sequence of elements. These elements can be of different types, and can even be new lists. A `dict` is an unordered collection of key-value-pairs, a value can be anything (even a new `dict`) while there are some restrictions on what can be a key (most often strings are used)."
   ]
  },
  {
   "cell_type": "code",
   "execution_count": 2,
   "metadata": {},
   "outputs": [
    {
     "name": "stdout",
     "output_type": "stream",
     "text": [
      "Wien\n",
      "Oslo\n",
      "London\n",
      "Barcelona\n"
     ]
    }
   ],
   "source": [
    "# list of cities\n",
    "cities = ['Wien', 'Oslo', 'London', 'Barcelona']\n",
    "for city in cities:\n",
    "    print(city)"
   ]
  },
  {
   "cell_type": "code",
   "execution_count": 3,
   "metadata": {},
   "outputs": [
    {
     "name": "stdout",
     "output_type": "stream",
     "text": [
      "Austria Wien\n",
      "Norway Oslo\n",
      "Portugal Lisboa\n",
      "Finland Helsinki\n"
     ]
    }
   ],
   "source": [
    "# dict of countries with their capitals\n",
    "capitals = {'Austria': 'Wien', 'Norway': 'Oslo', 'Portugal': 'Lisboa', 'Finland': 'Helsinki'}\n",
    "for country, capital in capitals.items():\n",
    "    print(country, capital)"
   ]
  },
  {
   "cell_type": "markdown",
   "metadata": {},
   "source": [
    "## Indexing"
   ]
  },
  {
   "cell_type": "markdown",
   "metadata": {},
   "source": [
    "To pick out one element from a list or dictionary we use _indexing_. This is denoted by square brackets. For lists we need to use a numerical index, the element number counting from 0:"
   ]
  },
  {
   "cell_type": "code",
   "execution_count": 4,
   "metadata": {},
   "outputs": [
    {
     "data": {
      "text/plain": [
       "'Wien'"
      ]
     },
     "execution_count": 4,
     "metadata": {},
     "output_type": "execute_result"
    }
   ],
   "source": [
    "cities[0]"
   ]
  },
  {
   "cell_type": "code",
   "execution_count": 5,
   "metadata": {},
   "outputs": [
    {
     "data": {
      "text/plain": [
       "'London'"
      ]
     },
     "execution_count": 5,
     "metadata": {},
     "output_type": "execute_result"
    }
   ],
   "source": [
    "cities[2]"
   ]
  },
  {
   "cell_type": "markdown",
   "metadata": {},
   "source": [
    "For dictionaries the indexing is done by the keys. In our example above we only used string-keys, namely the names of countries."
   ]
  },
  {
   "cell_type": "code",
   "execution_count": 6,
   "metadata": {},
   "outputs": [
    {
     "data": {
      "text/plain": [
       "'Oslo'"
      ]
     },
     "execution_count": 6,
     "metadata": {},
     "output_type": "execute_result"
    }
   ],
   "source": [
    "capitals['Norway']"
   ]
  },
  {
   "cell_type": "markdown",
   "metadata": {},
   "source": [
    "For numerical indices we can also use _slicing_ to pick out several elements at once (getting a sub-list from a list). In slicing we give both a start- and an end-index separated by colon. The start-index is inclusive, while the end-index is non-inclusive."
   ]
  },
  {
   "cell_type": "code",
   "execution_count": 7,
   "metadata": {},
   "outputs": [
    {
     "data": {
      "text/plain": [
       "['Wien', 'Oslo']"
      ]
     },
     "execution_count": 7,
     "metadata": {},
     "output_type": "execute_result"
    }
   ],
   "source": [
    "cities[0:2]      # Includes the elements 0 and 1, but not 2"
   ]
  },
  {
   "cell_type": "markdown",
   "metadata": {},
   "source": [
    "Any of these numbers can be omitted. If the start-index is omitted it defaults to 0, while if the end-index is omitted all elements at the end of the sequence are included."
   ]
  },
  {
   "cell_type": "code",
   "execution_count": 8,
   "metadata": {},
   "outputs": [
    {
     "data": {
      "text/plain": [
       "['Wien', 'Oslo']"
      ]
     },
     "execution_count": 8,
     "metadata": {},
     "output_type": "execute_result"
    }
   ],
   "source": [
    "cities[:2]"
   ]
  },
  {
   "cell_type": "code",
   "execution_count": 9,
   "metadata": {},
   "outputs": [
    {
     "data": {
      "text/plain": [
       "['Oslo', 'London', 'Barcelona']"
      ]
     },
     "execution_count": 9,
     "metadata": {},
     "output_type": "execute_result"
    }
   ],
   "source": [
    "cities[1:]"
   ]
  },
  {
   "cell_type": "markdown",
   "metadata": {},
   "source": [
    "It is also possible to specify a third number, which will be the stride. For instance `[::2]` will pick out every second element of a list."
   ]
  },
  {
   "cell_type": "code",
   "execution_count": 10,
   "metadata": {},
   "outputs": [
    {
     "data": {
      "text/plain": [
       "['Wien', 'London']"
      ]
     },
     "execution_count": 10,
     "metadata": {},
     "output_type": "execute_result"
    }
   ],
   "source": [
    "cities[::2]"
   ]
  }
 ],
 "metadata": {
  "kernelspec": {
   "display_name": "Python [conda root]",
   "language": "python",
   "name": "conda-root-py"
  },
  "language_info": {
   "codemirror_mode": {
    "name": "ipython",
    "version": 3
   },
   "file_extension": ".py",
   "mimetype": "text/x-python",
   "name": "python",
   "nbconvert_exporter": "python",
   "pygments_lexer": "ipython3",
   "version": "3.6.2"
  }
 },
 "nbformat": 4,
 "nbformat_minor": 2
}
