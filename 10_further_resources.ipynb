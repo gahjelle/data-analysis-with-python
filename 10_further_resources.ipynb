{
 "cells": [
  {
   "cell_type": "markdown",
   "metadata": {},
   "source": [
    "# Further resources"
   ]
  },
  {
   "cell_type": "markdown",
   "metadata": {},
   "source": [
    "One of the great things with Python is the community around the language. In this short overview we have seen some of the most popular packages for doing data-science, but there are many more out there. A few general packages that we did not cover are:\n",
    "\n",
    "+ [`scipy` does things like ODEs, interpolation, optimization and so on]()\n",
    "+ [`xarray` is built on `pandas`, and does a better job of handling data with multiple indices]()\n",
    "+ [`pint` is powerful if you do a lot of unit conversions]()\n",
    "\n",
    "## General introductions to Python\n",
    "\n",
    "\n",
    "## Specific tutorials\n",
    "\n",
    "The following documents typically focus on one of the topics we have seen earlier.\n",
    "\n",
    "+ [Mastering __Markdown__](https://guides.github.com/features/mastering-markdown/)\n",
    "+ [Python module of the week: `json`](https://pymotw.com/3/json/)\n",
    "+ [From Python to `numpy`](http://www.labri.fr/perso/nrougier/from-python-to-numpy/)"
   ]
  }
 ],
 "metadata": {
  "kernelspec": {
   "display_name": "Python [conda root]",
   "language": "python",
   "name": "conda-root-py"
  },
  "language_info": {
   "codemirror_mode": {
    "name": "ipython",
    "version": 3
   },
   "file_extension": ".py",
   "mimetype": "text/x-python",
   "name": "python",
   "nbconvert_exporter": "python",
   "pygments_lexer": "ipython3",
   "version": "3.5.3"
  }
 },
 "nbformat": 4,
 "nbformat_minor": 2
}
