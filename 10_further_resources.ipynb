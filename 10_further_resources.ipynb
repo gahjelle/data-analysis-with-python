{
 "cells": [
  {
   "cell_type": "markdown",
   "metadata": {},
   "source": [
    "# Further resources"
   ]
  },
  {
   "cell_type": "markdown",
   "metadata": {},
   "source": [
    "One of the great things with Python is the community around the language. In this short overview we have seen some of the most popular packages for doing data-science, but there are many more out there. A few general packages that we did not cover are:\n",
    "\n",
    "+ [The `scipy` library is a collection of mathematical algorithms and convenience functions including things like ODEs, interpolation, optimization](https://docs.scipy.org/doc/)\n",
    "+ [`xarray` is built on `pandas`, and does a better job of handling data with multiple indices](http://xarray.pydata.org)\n",
    "+ [`geopandas` extend `pandas`' abilities to work with geospatial data](http://geopandas.org)\n",
    "+ [`pint` is powerful if you do a lot of unit conversions](https://pint.readthedocs.io/en/stable)\n",
    "\n",
    "## General introductions to Python\n",
    "\n",
    "Python is currently among the most popular programming languages in existence, and there is a lot of support for Python online. Here are some general Python tutorials.\n",
    "\n",
    "+ [The Python Tutorial at _python.org_](https://docs.python.org/3/tutorial/)\n",
    "+ [Automate the boring stuff with Python](https://automatetheboringstuff.com/)\n",
    "+ [Lectures on scientific computing with Python](https://github.com/jrjohansson/scientific-python-lectures)\n",
    "\n",
    "## Specific tutorials\n",
    "\n",
    "The following documents typically focus on one of the topics we have seen earlier.\n",
    "\n",
    "+ [Mastering __Markdown__](https://guides.github.com/features/mastering-markdown/)\n",
    "+ [Python module of the week: `json`](https://pymotw.com/3/json/)\n",
    "+ [From Python to `numpy`](http://www.labri.fr/perso/nrougier/from-python-to-numpy/)\n",
    "+ [`pandas` tutorials](http://pandas.pydata.org/pandas-docs/stable/tutorials.html)\n",
    "+ [Effectively using `matplotlib`](http://pbpython.com/effective-matplotlib.html)\n",
    "+ [__Jupyter Notebook__ tutorial: The definitive guide](https://www.datacamp.com/community/tutorials/tutorial-jupyter-notebook)"
   ]
  }
 ],
 "metadata": {
  "kernelspec": {
   "display_name": "Python [default]",
   "language": "python",
   "name": "python3"
  },
  "language_info": {
   "codemirror_mode": {
    "name": "ipython",
    "version": 3
   },
   "file_extension": ".py",
   "mimetype": "text/x-python",
   "name": "python",
   "nbconvert_exporter": "python",
   "pygments_lexer": "ipython3",
   "version": "3.6.2"
  }
 },
 "nbformat": 4,
 "nbformat_minor": 2
}
