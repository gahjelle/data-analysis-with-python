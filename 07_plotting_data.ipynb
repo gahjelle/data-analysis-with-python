{
 "cells": [
  {
   "cell_type": "markdown",
   "metadata": {},
   "source": [
    "# Plotting data"
   ]
  },
  {
   "cell_type": "markdown",
   "metadata": {},
   "source": [
    "Python has several libraries for plotting data, the most popular probably being `matplotlib` and `bokeh`. The `matplotlib` library is inspired by Matlab's plotting tools and works quite well both for interactively exploring data and for creating finished plots for prints. The `bokeh` library creates graphs and visualizations in JavaScript, and is as such a great tool for creating plots that should be displayed on a web page.\n",
    "\n",
    "Both libraries work well together with the Jupyter Notebooks, and plots can be displayed and interacted with directly in the notebook. For `matplotlib` we should use a _notebook magic_ (a command starting with `%` that only works inside the notebook) to specify how `matplotlib`-plots should be handled. The typical values are `inline` which only includes the finished plot in the notebook, and `notebook` which creates an interactive plot in the notebook."
   ]
  },
  {
   "cell_type": "code",
   "execution_count": null,
   "metadata": {
    "collapsed": false
   },
   "outputs": [],
   "source": [
    "%matplotlib inline\n",
    "# %matplotlib notebook"
   ]
  },
  {
   "cell_type": "markdown",
   "metadata": {},
   "source": [
    "## Plotting a Pandas series"
   ]
  },
  {
   "cell_type": "markdown",
   "metadata": {},
   "source": [
    "The `pandas` series already know how to plot themselves. Let us reload the CO2-example from the previous notebook."
   ]
  },
  {
   "cell_type": "code",
   "execution_count": null,
   "metadata": {
    "collapsed": false
   },
   "outputs": [],
   "source": [
    "import pandas as pd\n",
    "co2 = pd.read_csv('data/co2-ppm-mauna-loa-19651980.csv', index_col=0, parse_dates=True)"
   ]
  },
  {
   "cell_type": "code",
   "execution_count": null,
   "metadata": {
    "collapsed": false
   },
   "outputs": [],
   "source": [
    "co2.plot()"
   ]
  },
  {
   "cell_type": "markdown",
   "metadata": {
    "collapsed": true
   },
   "source": [
    "## Plotting with `matplotlib`"
   ]
  },
  {
   "cell_type": "markdown",
   "metadata": {},
   "source": [
    "To plot any numerical dataset, we use the `matplotlib` library directly. Typically, we are interested in the functions available in the `matplotlib.pyplot` subpackage, which is conventionally imported as\n",
    "\n",
    "    import matplotlib.pyplot as plt\n",
    "\n",
    "Note that outside the notebook, we will typically need either a\n",
    "\n",
    "    plt.show()\n",
    "\n",
    "or a\n",
    "\n",
    "    plt.savefig()\n",
    "    \n",
    "to either show or save the plot after we have created it. In the notebook it is shown automatically (depending on the notebook magic we specified earlier)."
   ]
  },
  {
   "cell_type": "code",
   "execution_count": null,
   "metadata": {
    "collapsed": true
   },
   "outputs": [],
   "source": [
    "import matplotlib.pyplot as plt"
   ]
  },
  {
   "cell_type": "code",
   "execution_count": null,
   "metadata": {
    "collapsed": false
   },
   "outputs": [],
   "source": [
    "plt.plot(co2['CO2 (ppm) mauna loa, 1965-1980'], 'r:')"
   ]
  },
  {
   "cell_type": "markdown",
   "metadata": {},
   "source": [
    "See the [`matplotlib` gallery](https://matplotlib.org/gallery.html) for many examples on how to create plots."
   ]
  },
  {
   "cell_type": "markdown",
   "metadata": {},
   "source": [
    "## Bokeh"
   ]
  },
  {
   "cell_type": "markdown",
   "metadata": {},
   "source": [
    "We will not cover `bokeh` here, but the [gallery](http://bokeh.pydata.org/en/latest/docs/gallery.html) shows many examples and is a good place to get started."
   ]
  }
 ],
 "metadata": {
  "kernelspec": {
   "display_name": "Python [conda root]",
   "language": "python",
   "name": "conda-root-py"
  },
  "language_info": {
   "codemirror_mode": {
    "name": "ipython",
    "version": 3
   },
   "file_extension": ".py",
   "mimetype": "text/x-python",
   "name": "python",
   "nbconvert_exporter": "python",
   "pygments_lexer": "ipython3",
   "version": "3.5.3"
  }
 },
 "nbformat": 4,
 "nbformat_minor": 2
}
