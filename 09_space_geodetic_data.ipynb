{
 "cells": [
  {
   "cell_type": "markdown",
   "metadata": {},
   "source": [
    "# Space-geodetic data\n",
    "\n",
    "_The following notebook uses a proprietary library called Where. At the moment it is not available outside Kartverket._\n",
    "\n",
    "There are many different data formats and data types one runs into when working with satellite and space geodesy data. As part of the data flow, `where` is able to read many of these. However, these data can be taken advantage of also outside the `where`-pipeline."
   ]
  },
  {
   "cell_type": "code",
   "execution_count": null,
   "metadata": {
    "collapsed": true
   },
   "outputs": [],
   "source": [
    "%matplotlib notebook\n",
    "\n",
    "import numpy as np\n",
    "import matplotlib.pyplot as plt"
   ]
  },
  {
   "cell_type": "markdown",
   "metadata": {},
   "source": [
    "## Parsers\n",
    "\n",
    "Parsers are `where`-functions for reading data. A parser can typically read a data file and return data in a structured dictionary. The following parsers are currently available in the `where`-library."
   ]
  },
  {
   "cell_type": "code",
   "execution_count": null,
   "metadata": {
    "collapsed": true,
    "scrolled": true
   },
   "outputs": [],
   "source": [
    "from where import parsers\n",
    "parsers.names()"
   ]
  },
  {
   "cell_type": "markdown",
   "metadata": {},
   "source": [
    "As an example, let us try to read a Rinex 2-file:"
   ]
  },
  {
   "cell_type": "code",
   "execution_count": null,
   "metadata": {
    "collapsed": true
   },
   "outputs": [],
   "source": [
    "!head examples/nyal3060.09o"
   ]
  },
  {
   "cell_type": "markdown",
   "metadata": {},
   "source": [
    "The following returns the data as a _dictionary_:"
   ]
  },
  {
   "cell_type": "code",
   "execution_count": null,
   "metadata": {
    "collapsed": true
   },
   "outputs": [],
   "source": [
    "nyal = parsers.parse('rinex2_obs', file_path='examples/nyal3060.09o', sampling_rate=300).data"
   ]
  },
  {
   "cell_type": "code",
   "execution_count": null,
   "metadata": {
    "collapsed": true
   },
   "outputs": [],
   "source": [
    "nyal.keys()"
   ]
  },
  {
   "cell_type": "code",
   "execution_count": null,
   "metadata": {
    "collapsed": true
   },
   "outputs": [],
   "source": [
    "nyal['time']"
   ]
  },
  {
   "cell_type": "code",
   "execution_count": null,
   "metadata": {
    "collapsed": true
   },
   "outputs": [],
   "source": [
    "nyal['obs'].keys()"
   ]
  },
  {
   "cell_type": "markdown",
   "metadata": {},
   "source": [
    "`where` uses its own `Dataset`-format for doing analyses, but when using `where` as a library it is often easier to store the data in a `pandas` dataframe (this is planned to be supported directly):"
   ]
  },
  {
   "cell_type": "code",
   "execution_count": null,
   "metadata": {
    "collapsed": true
   },
   "outputs": [],
   "source": [
    "import pandas as pd\n",
    "df = pd.DataFrame(dict(time=nyal['time'], satellite=nyal['text']['satellite'],\n",
    "                       C1=nyal['obs']['C1']))\n",
    "df.head()"
   ]
  },
  {
   "cell_type": "code",
   "execution_count": null,
   "metadata": {
    "collapsed": true
   },
   "outputs": [],
   "source": [
    "df.time = pd.to_datetime(df.time)\n",
    "df = df.set_index(['time', 'satellite'])\n",
    "df = df.unstack()\n",
    "df.columns = df.columns.droplevel()\n",
    "df.head()"
   ]
  },
  {
   "cell_type": "code",
   "execution_count": null,
   "metadata": {
    "collapsed": true
   },
   "outputs": [],
   "source": [
    "df.G08.plot()"
   ]
  },
  {
   "cell_type": "markdown",
   "metadata": {},
   "source": [
    "## Apriori data\n",
    "\n",
    "The parsers are quite low level, only reading one file and returning the data in a fairly raw form. Another layer is introduced for many types of data inside the `apriori`-library:"
   ]
  },
  {
   "cell_type": "code",
   "execution_count": null,
   "metadata": {
    "collapsed": true
   },
   "outputs": [],
   "source": [
    "from where import apriori\n",
    "apriori.names()"
   ]
  },
  {
   "cell_type": "markdown",
   "metadata": {},
   "source": [
    "### Ephemerides\n",
    "\n",
    "One example is the `ephemerides` apriori-data."
   ]
  },
  {
   "cell_type": "code",
   "execution_count": null,
   "metadata": {
    "collapsed": true
   },
   "outputs": [],
   "source": [
    "from where.lib.time import Time\n",
    "y2016 = Time(range(57388,57754), format='mjd', scale='utc')"
   ]
  },
  {
   "cell_type": "code",
   "execution_count": null,
   "metadata": {
    "collapsed": true,
    "scrolled": true
   },
   "outputs": [],
   "source": [
    "eph = apriori.get('ephemerides', time=y2016)\n",
    "eph.names"
   ]
  },
  {
   "cell_type": "code",
   "execution_count": null,
   "metadata": {
    "collapsed": true
   },
   "outputs": [],
   "source": [
    "earth = eph.pos_bcrs('earth')\n",
    "venus = eph.pos_bcrs('venus')\n",
    "mars = eph.pos_bcrs('mars', time=y1995_2016)"
   ]
  },
  {
   "cell_type": "code",
   "execution_count": null,
   "metadata": {
    "collapsed": true
   },
   "outputs": [],
   "source": [
    "from mpl_toolkits.mplot3d import Axes3D\n",
    "\n",
    "fig = plt.figure()\n",
    "ax = fig.add_subplot(111, projection='3d')\n",
    "ax.scatter(*earth.T, color='blue')\n",
    "ax.scatter(*venus.T, color='orange')\n",
    "ax.scatter(*mars.T, color='red')\n",
    "ax;"
   ]
  },
  {
   "cell_type": "markdown",
   "metadata": {},
   "source": [
    "### Reference frames\n",
    "\n",
    "Another example is reference frames"
   ]
  },
  {
   "cell_type": "code",
   "execution_count": null,
   "metadata": {
    "collapsed": true
   },
   "outputs": [],
   "source": [
    "import where\n",
    "from where.lib import files\n",
    "where.set_config(2015, 8, 4, 'vlbi')\n",
    "files.use_filekey_suffix('vlbi')\n",
    "\n",
    "y1995_2016 = Time(range(49718,57754), format='mjd', scale='utc', set_deltas=False)\n",
    "y1995_2016.iso"
   ]
  },
  {
   "cell_type": "code",
   "execution_count": null,
   "metadata": {
    "collapsed": true
   },
   "outputs": [],
   "source": [
    "itrf2014 = apriori.get('trf', time=y1995_2016, reference_frame='itrf_snx:2014')\n",
    "itrf2008 = apriori.get('trf', time=y1995_2016, reference_frame='itrf_ssc:2008')"
   ]
  },
  {
   "cell_type": "code",
   "execution_count": null,
   "metadata": {
    "collapsed": true
   },
   "outputs": [],
   "source": [
    "itrf2008[('vlbi', '7331')]"
   ]
  },
  {
   "cell_type": "code",
   "execution_count": null,
   "metadata": {
    "collapsed": true
   },
   "outputs": [],
   "source": [
    "itrf2014[('vlbi', '7331')]"
   ]
  },
  {
   "cell_type": "code",
   "execution_count": null,
   "metadata": {
    "collapsed": true
   },
   "outputs": [],
   "source": [
    "itrf2008.pos(('vlbi', '7331'), time=1)"
   ]
  },
  {
   "cell_type": "code",
   "execution_count": null,
   "metadata": {
    "collapsed": true
   },
   "outputs": [],
   "source": [
    "itrf2014.pos(('vlbi', '7331'))"
   ]
  },
  {
   "cell_type": "code",
   "execution_count": null,
   "metadata": {
    "collapsed": true
   },
   "outputs": [],
   "source": [
    "compare_z = np.vstack((itrf2008.pos(('vlbi', '7331'))[:, 2], itrf2014.pos(('vlbi', '7331'))[:, 2])).T\n",
    "plt.plot(y1995_2016.datetime, compare_z);"
   ]
  },
  {
   "cell_type": "code",
   "execution_count": null,
   "metadata": {
    "collapsed": true
   },
   "outputs": [],
   "source": [
    "plt.plot(y1995_2016.datetime, itrf2014.pos(('vlbi', '7345'))[:, 1]);"
   ]
  }
 ],
 "metadata": {
  "kernelspec": {
   "display_name": "Python [conda root]",
   "language": "python",
   "name": "conda-root-py"
  },
  "language_info": {
   "codemirror_mode": {
    "name": "ipython",
    "version": 3
   },
   "file_extension": ".py",
   "mimetype": "text/x-python",
   "name": "python",
   "nbconvert_exporter": "python",
   "pygments_lexer": "ipython3",
   "version": "3.6.2"
  }
 },
 "nbformat": 4,
 "nbformat_minor": 2
}
